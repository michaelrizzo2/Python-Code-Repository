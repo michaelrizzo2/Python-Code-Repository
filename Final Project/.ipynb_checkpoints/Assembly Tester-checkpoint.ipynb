{
 "metadata": {
  "name": "",
  "signature": "sha256:1382384b0df4c2a0f576801ef53c39280cddbfcb3ad44c12cddd8923646a9c9f"
 },
 "nbformat": 3,
 "nbformat_minor": 0,
 "worksheets": [
  {
   "cells": [
    {
     "cell_type": "code",
     "collapsed": false,
     "input": [
      "for j in [0,1,5,6]:\n",
      "    for k in [0,1,5,6]:\n",
      "        print j,k"
     ],
     "language": "python",
     "metadata": {},
     "outputs": [
      {
       "output_type": "stream",
       "stream": "stdout",
       "text": [
        "0 0\n",
        "0 1\n",
        "0 5\n",
        "0 6\n",
        "1 0\n",
        "1 1\n",
        "1 5\n",
        "1 6\n",
        "5 0\n",
        "5 1\n",
        "5 5\n",
        "5 6\n",
        "6 0\n",
        "6 1\n",
        "6 5\n",
        "6 6\n"
       ]
      }
     ],
     "prompt_number": 2
    },
    {
     "cell_type": "code",
     "collapsed": false,
     "input": [
      "for j in [0,1,5,6]:\n",
      "    for k in [0,1,5,6]:\n",
      "        if k in [0,1,5]:\n",
      "            continue"
     ],
     "language": "python",
     "metadata": {},
     "outputs": [],
     "prompt_number": 8
    },
    {
     "cell_type": "code",
     "collapsed": false,
     "input": [],
     "language": "python",
     "metadata": {},
     "outputs": []
    }
   ],
   "metadata": {}
  }
 ]
}